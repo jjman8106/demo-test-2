{
 "cells": [
  {
   "cell_type": "markdown",
   "id": "390aec12-3d28-463d-99f7-72a59d24cb5b",
   "metadata": {},
   "source": [
    "# My Jupyter Notebook on IBM Watson Studio"
   ]
  },
  {
   "cell_type": "markdown",
   "id": "75fbc39e-1ef2-4c08-ae8e-301a95a5deb0",
   "metadata": {},
   "source": [
    "**Rom Rungsardthong**\n",
    "\n",
    "Data Scientist"
   ]
  },
  {
   "cell_type": "markdown",
   "id": "b9f3dabe-748a-4372-9384-3a19e7b21319",
   "metadata": {},
   "source": [
    "*I am interested in data science because I want help people in healthcare industry*"
   ]
  },
  {
   "cell_type": "markdown",
   "id": "f5cc3a22-cf17-4339-bbf8-63a061298cae",
   "metadata": {},
   "source": [
    "### Basic Mathematics"
   ]
  },
  {
   "cell_type": "code",
   "execution_count": 4,
   "id": "2b5689aa-5567-4a3f-b05e-48bbb80cba40",
   "metadata": {},
   "outputs": [
    {
     "data": {
      "text/plain": [
       "11"
      ]
     },
     "execution_count": 4,
     "metadata": {},
     "output_type": "execute_result"
    }
   ],
   "source": [
    "5+6"
   ]
  },
  {
   "cell_type": "markdown",
   "id": "814a8719-4fae-4270-941e-4a6211f14cb6",
   "metadata": {},
   "source": [
    "- Bullet\n",
    "1. Number List\n"
   ]
  },
  {
   "cell_type": "code",
   "execution_count": null,
   "id": "8f415148-872e-45c6-b32e-ebd7ce3e2c13",
   "metadata": {},
   "outputs": [],
   "source": []
  }
 ],
 "metadata": {
  "kernelspec": {
   "display_name": "Python",
   "language": "python",
   "name": "conda-env-python-py"
  },
  "language_info": {
   "codemirror_mode": {
    "name": "ipython",
    "version": 3
   },
   "file_extension": ".py",
   "mimetype": "text/x-python",
   "name": "python",
   "nbconvert_exporter": "python",
   "pygments_lexer": "ipython3",
   "version": "3.7.12"
  }
 },
 "nbformat": 4,
 "nbformat_minor": 5
}
